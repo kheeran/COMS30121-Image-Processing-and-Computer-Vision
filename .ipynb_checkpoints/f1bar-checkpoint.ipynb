{
 "cells": [
  {
   "cell_type": "code",
   "execution_count": 1,
   "metadata": {},
   "outputs": [
    {
     "name": "stdout",
     "output_type": "stream",
     "text": [
      "Using matplotlib backend: Qt5Agg\n"
     ]
    }
   ],
   "source": [
    "%matplotlib\n",
    "import numpy as np\n",
    "import matplotlib.pyplot as plt \n",
    "import matplotlib.pylab as pylab\n",
    "pylab.rcParams['figure.figsize'] = (20, 15)\n",
    "pylab.rcParams['font.size'] = 24\n",
    "plt.style.use('seaborn')\n",
    "\n",
    "def f1bar(result1, result2, num_images):\n",
    "    image_labels = []\n",
    "    for i in range(0, num_images):\n",
    "        each_image = 'dart'+str(i)+'jpg.'\n",
    "        image_labels.append(each_image)\n",
    "    \n",
    "    indices = np.arange(len(image_labels))\n",
    "    width = 0.35\n",
    "    \n",
    "    fig = plt.figure()\n",
    "    ax = fig.add_subplot(111)\n",
    "    bar1 = ax.bar(indices, result1, width, color = 'royalblue', label = 'Viola-Jones')\n",
    "    bar2 = ax.bar(indices+width, result2, width, color = 'seagreen', label = 'Viola-Jones + Hough Transform')\n",
    "    plt.xticks(indices+width/2, image_labels, rotation = 'vertical')\n",
    "    plt.legend(loc = 'lower left', bbox_to_anchor=(0,1.02,1,0.2), mode = 'expand', ncol = 2)\n",
    "\n",
    "result1 = [0.111,0.25,0.222,0.143,0.167,0.143,0.283,0.095,0.121,0.154,0.261,0.25,0.4,0.125,0.095,0.222]\n",
    "result2 = [1,1,1,1,1,1,0,1,0.67,0,0.8,1,1,0.67,1,1]\n",
    "num_images = 16\n",
    "\n",
    "f1bar(result1,result2,16)\n",
    "plt.show()\n",
    "\n"
   ]
  }
 ],
 "metadata": {
  "kernelspec": {
   "display_name": "Python 3",
   "language": "python",
   "name": "python3"
  },
  "language_info": {
   "codemirror_mode": {
    "name": "ipython",
    "version": 3
   },
   "file_extension": ".py",
   "mimetype": "text/x-python",
   "name": "python",
   "nbconvert_exporter": "python",
   "pygments_lexer": "ipython3",
   "version": "3.6.6"
  }
 },
 "nbformat": 4,
 "nbformat_minor": 2
}
