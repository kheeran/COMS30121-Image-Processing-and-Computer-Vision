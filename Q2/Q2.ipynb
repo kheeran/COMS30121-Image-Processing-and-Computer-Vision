{
 "cells": [
  {
   "cell_type": "code",
   "execution_count": 4,
   "metadata": {},
   "outputs": [
    {
     "data": {
      "image/png": "[encoded data removed]",
      "text/plain": [
       "<Figure size 432x288 with 1 Axes>"
      ]
     },
     "metadata": {
      "needs_background": "light"
     },
     "output_type": "display_data"
    }
   ],
   "source": [
    "import numpy as np\n",
    "import cv2\n",
    "import matplotlib.pyplot as plt\n",
    "import math\n",
    "\n",
    "# def imshow(image):\n",
    "#     #OpenCV stores images in BGR so we have to convert to RGB to display it using matplotlib\n",
    "#     imagergb = cv2.cvtColor(image, cv2.COLOR_BGR2RGB)\n",
    "#     plt.imshow(imagergb)\n",
    "\n",
    "obj_classifier = cv2.CascadeClassifier('classifier/dartcascade/cascade.xml')\n",
    "\n",
    "fig = plt.figure()\n",
    "#number of test images\n",
    "N=16\n",
    "\n",
    "for i in range (5,6):\n",
    "    #load image\n",
    "    location = str(\"../images/dart\") + str(i) + str(\".jpg\")\n",
    "    image = cv2.imread(location)\n",
    "    gray = cv2.cvtColor(image, cv2.COLOR_BGR2GRAY)\n",
    "    \n",
    "    #run classifier\n",
    "    obj = obj_classifier.detectMultiScale(gray, 1.1, 10, 0, (50,50), (500,500))\n",
    "    \n",
    "    #check if emppty\n",
    "    if obj is ():\n",
    "        print('No objects found in ' + str(\"dart\") + str(i) + str(\".jpg\"))\n",
    "\n",
    "    # Visualise classifier: Draw box by iteration\n",
    "    for (x,y,w,h) in obj:\n",
    "        cv2.rectangle(image, (x,y), (x+w,y+h), (0,255,0), 2)\n",
    "    \n",
    "    saveloc = (str(\"dartclassified/dartclass\" + str(i) + str(\".jpg\")))\n",
    "    cv2.imwrite(saveloc,image)\n",
    "    #plot figures\n",
    "    cols = 4\n",
    "    rows = math.ceil(N/cols)\n",
    "    ax = fig.add_subplot(rows, cols, i+1)\n",
    "    imagergb = cv2.cvtColor(image, cv2.COLOR_BGR2RGB)\n",
    "    ax.imshow(imagergb)\n",
    "plt.show()\n",
    "    \n",
    "#cv2.imwrite('detected.jpg', detected)\n",
    "#cv2.destroyAllWindows()\n"
   ]
  },
  {
   "cell_type": "code",
   "execution_count": null,
   "metadata": {},
   "outputs": [],
   "source": []
  }
 ],
 "metadata": {
  "kernelspec": {
   "display_name": "Python 3",
   "language": "python",
   "name": "python3"
  },
  "language_info": {
   "codemirror_mode": {
    "name": "ipython",
    "version": 3
   },
   "file_extension": ".py",
   "mimetype": "text/x-python",
   "name": "python",
   "nbconvert_exporter": "python",
   "pygments_lexer": "ipython3",
   "version": "3.7.0"
  }
 },
 "nbformat": 4,
 "nbformat_minor": 2
}
