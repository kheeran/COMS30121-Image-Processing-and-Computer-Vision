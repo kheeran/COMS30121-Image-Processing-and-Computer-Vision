{
 "cells": [
  {
   "cell_type": "markdown",
   "metadata": {},
   "source": [
    "# Graphing the analysis of dart5.jpg and dart9.jpg"
   ]
  },
  {
   "cell_type": "code",
   "execution_count": 1,
   "metadata": {},
   "outputs": [
    {
     "name": "stdout",
     "output_type": "stream",
     "text": [
      "dart5.jpg loaded\n",
      "EdgeDetect runtime: 7.741465330123901\n",
      "Edge image saved\n",
      "Performing Hough Transform - Circles:\n",
      "progress - 0%\n",
      "progress - 3%\n",
      "progress - 7%\n",
      "progress - 10%\n",
      "progress - 14%\n",
      "progress - 17%\n",
      "progress - 20%\n",
      "progress - 24%\n",
      "progress - 27%\n",
      "progress - 31%\n",
      "progress - 34%\n",
      "progress - 37%\n",
      "progress - 41%\n",
      "progress - 44%\n",
      "progress - 48%\n",
      "progress - 51%\n",
      "progress - 54%\n",
      "progress - 58%\n",
      "progress - 61%\n",
      "progress - 65%\n",
      "progress - 68%\n",
      "progress - 71%\n",
      "progress - 75%\n",
      "progress - 78%\n",
      "progress - 82%\n",
      "progress - 85%\n",
      "progress - 88%\n",
      "progress - 92%\n",
      "progress - 95%\n",
      "progress - 99%\n",
      "runtime: Hough Transform 268.5364439487457\n",
      "Hough Space Runtime: 25.00614595413208\n",
      "Hough image saved\n",
      "Hough transform image saved\n",
      "Viola-Jones Runtime: 0.08914375305175781\n",
      "Viola-Jones image saved\n",
      "Joint HT & VJ image saved\n",
      "dart5.jpg done\n",
      "dart9.jpg loaded\n",
      "EdgeDetect runtime: 3.8889620304107666\n",
      "Edge image saved\n",
      "Performing Hough Transform - Circles:\n",
      "progress - 0%\n",
      "progress - 3%\n",
      "progress - 7%\n",
      "progress - 10%\n",
      "progress - 14%\n",
      "progress - 17%\n",
      "progress - 20%\n",
      "progress - 24%\n",
      "progress - 27%\n",
      "progress - 31%\n",
      "progress - 34%\n",
      "progress - 37%\n",
      "progress - 41%\n",
      "progress - 44%\n",
      "progress - 47%\n",
      "progress - 51%\n",
      "progress - 54%\n",
      "progress - 58%\n",
      "progress - 61%\n",
      "progress - 64%\n",
      "progress - 68%\n",
      "progress - 71%\n",
      "progress - 75%\n",
      "progress - 78%\n",
      "progress - 81%\n",
      "progress - 85%\n",
      "progress - 88%\n",
      "progress - 92%\n",
      "progress - 95%\n",
      "progress - 98%\n",
      "runtime: Hough Transform 150.73441648483276\n",
      "Hough Space Runtime: 12.170598030090332\n",
      "Hough image saved\n",
      "Hough transform image saved\n",
      "Viola-Jones Runtime: 0.02902531623840332\n",
      "Viola-Jones image saved\n",
      "Joint HT & VJ image saved\n",
      "dart9.jpg done\n",
      "Total runtime: 475.2196137905121\n",
      "F1-VJ:\n",
      "{5: 0.14285714285714288, 9: 0.15384615384615385}\n",
      "F1-VJHT:\n",
      "{5: 0, 9: 0.6666666666666666}\n"
     ]
    }
   ],
   "source": [
    "import matplotlib.pyplot as plt\n",
    "import matplotlib.pylab as pylab\n",
    "import numpy as np\n",
    "import cv2\n",
    "import math\n",
    "import time\n",
    "import library as lib\n",
    "pylab.rcParams['figure.figsize'] = (20,10)\n",
    "\n",
    "## PROGRAMME STARTS\n",
    "\n",
    "# Pre-annotated ground truths\n",
    "ground = {0: np.array([[435,   6, 167, 194]]), 1: np.array([[198, 143, 191, 173]]), 2:\n",
    "np.array([[ 97, 101,  98,  80]]), 3: np.array([[322, 150,  69,  69]]), 4:\n",
    "np.array([[175, 104, 172, 180]]), 5: np.array([[426, 141,  92,  97]]), 6:\n",
    "np.array([[210, 120,  63,  57]]), 7: np.array([[241, 174, 127, 131]]), 8:\n",
    "np.array([[840, 225, 123, 104],[ 67, 255,  59,  84]]), 9:\n",
    "np.array([[188,  36, 257, 253]]), 10: np.array([[ 78, 101, 121, 113],\n",
    "[578, 127,  60,  91],[916, 149,  37,  69]]), 11:\n",
    "np.array([[170, 107,  68,  50]]), 12: np.array([[153,  74,  65, 146]]), 13:\n",
    "np.array([[269, 126, 135, 130]]), 14:\n",
    "np.array([[117, 106, 134, 113],[981, 101, 128, 113]]), 15:\n",
    "np.array([[151,  56, 136, 131]])}\n",
    "\n",
    "# Setting the thresholds\n",
    "edgethresh = 2.2\n",
    "judgethresh = 0.5\n",
    "# Setting the max and min radius of a detected circle in HT\n",
    "minrad = 10\n",
    "maxrad = 100\n",
    "# Set the min proximity of any 2 HT circles`\n",
    "proximity = 70\n",
    "\n",
    "# whichdartimgs = [0,1,2,3,4,5,6,7,8,9,10,11,12,13,14,15]\n",
    "whichdartimgs = [5,9]\n",
    "\n",
    "F1VJ = {}\n",
    "F1VJHT = {}\n",
    "PrecisionVJ = {}\n",
    "PrecisionVJHT = {}\n",
    "RecallVJ = {}\n",
    "RecallVJHT = {}\n",
    "start = time.time()\n",
    "for i in whichdartimgs:\n",
    "\n",
    "    # Loading a given image\n",
    "    location = str(\"../images/dart\") + str(i) + str(\".jpg\")\n",
    "    imgcol = cv2.imread(location)\n",
    "    img = cv2.cvtColor(imgcol, cv2.COLOR_BGR2GRAY)\n",
    "    print (\"dart\" + str(i) + \".jpg loaded\")\n",
    "    if len(whichdartimgs) == 1:\n",
    "        lib.imshow(imgcol, \"Original Image.\")\n",
    "\n",
    "\n",
    "    # Finding the edges of the image above a threshold\n",
    "    stime = time.time()\n",
    "    grad, direc = lib.EdgeDetect (img, threshavg=edgethresh)\n",
    "    print (\"EdgeDetect runtime: \" + str(time.time() - stime) )\n",
    "\n",
    "    # Saving the edge image\n",
    "    saveloc = (str(\"detected/dart\" + str(i) + str(\"edge.jpg\")))\n",
    "    cv2.imwrite(saveloc,grad)\n",
    "    print (\"Edge image saved\")\n",
    "    if len(whichdartimgs) == 1:\n",
    "        plt.title (\"Edge image. Click to close\")\n",
    "        plt.imshow (grad, cmap='gray')\n",
    "        plt.waitforbuttonpress()\n",
    "        plt.close()\n",
    "\n",
    "    #Running the Hough Transform for circles\n",
    "    stime = time.time()\n",
    "    Hxyr = lib.HTCircle(grad, direc, minrad, maxrad)\n",
    "    etime = time.time()\n",
    "    print(\"runtime: Hough Transform \" + str(etime-stime))\n",
    "\n",
    "\n",
    "    # Finding the Hough Space for the Hough Transform\n",
    "    stime = time.time()\n",
    "    Hspace = lib.HSpace(Hxyr)\n",
    "\n",
    "    #Saving the Hough Space image\n",
    "    saveloc = (str(\"detected/dart\" + str(i) + str(\"HS.jpg\")))\n",
    "    cv2.imwrite(saveloc,Hspace)\n",
    "    print (\"Hough Space Runtime: \" + str(time.time()-stime))\n",
    "    print (\"Hough image saved\")\n",
    "    if len(whichdartimgs) == 1:\n",
    "        plt.title (\"Hough Space. Click to close\")\n",
    "        plt.imshow(Hspace, cmap='gray')\n",
    "        plt.waitforbuttonpress()\n",
    "        plt.close()\n",
    "\n",
    "    # Finding the rectangle that encloses the 3 most likely circles\n",
    "    rect0, rect1, rect2 = lib.PlotRectangle(imgcol, Hxyr, Hspace, minrad, maxrad, prox=proximity)\n",
    "    dart_HT = np.array([rect0,rect1,rect2])\n",
    "\n",
    "    # Plotting the HT detection on the coloured image\n",
    "    for (x,y,w,h) in dart_HT:\n",
    "            cv2.rectangle(imgcol, (x,y), (x+w,y+h), (255,165,0), 3)\n",
    "\n",
    "    # Saving the HT detected colour image\n",
    "    saveloc = (str(\"detected/dart\" + str(i) + str(\"HS_detect.jpg\")))\n",
    "    cv2.imwrite(saveloc,imgcol)\n",
    "    print (\"Hough transform image saved\")\n",
    "    if len(whichdartimgs) == 1:\n",
    "        lib.imshow(imgcol, \"Hough Transform detection.\")\n",
    "\n",
    "    #Reloading a fresh coloured image\n",
    "    imgcol = cv2.imread(location)\n",
    "\n",
    "    # Finding abd labeling the detected dartboards for Viola-Jones\n",
    "    stime = time.time()\n",
    "    classifier = cv2.CascadeClassifier('cascade.xml')\n",
    "    dart_VJ = lib.ViolaJones(i, imgcol, classifier)\n",
    "    for (x,y,w,h) in dart_VJ:\n",
    "            cv2.rectangle(imgcol, (x,y), (x+w,y+h), (0,165,255), 3)\n",
    "\n",
    "    # Saving VJ detected colour image\n",
    "    saveloc = (str(\"detected/dart\" + str(i) + str(\"VJ_detect.jpg\")))\n",
    "    cv2.imwrite(saveloc,imgcol)\n",
    "    print (\"Viola-Jones Runtime: \" + str(time.time()-stime))\n",
    "    print (\"Viola-Jones image saved\")\n",
    "    if len(whichdartimgs) == 1:\n",
    "        lib.imshow(imgcol, \"Viola-Jones detection.\")\n",
    "\n",
    "    # Reload the coloured image\n",
    "    imgcol = cv2.imread(location)\n",
    "\n",
    "    # Combining Viola-Jones and Hough Transform by finding the overlapping classifications and plotting the corresponding VJ rectangle\n",
    "    _, dart_VJHT = lib.Eval(dart_VJ,dart_HT, imgcol, thresh=judgethresh)\n",
    "    # Note: the judgement array is unused\n",
    "\n",
    "    # Saving the detection of combined VJ and HT\n",
    "    saveloc = (str(\"detected/dart\" + str(i) + str(\"VJHS_detect.jpg\")))\n",
    "    cv2.imwrite(saveloc,imgcol)\n",
    "    print (\"Joint HT & VJ image saved\")\n",
    "    if len(whichdartimgs) == 1:\n",
    "        lib.imshow(imgcol, \"Joint HT & VJ detection.\")\n",
    "\n",
    "    # Reload the coloured image\n",
    "    imgcol = cv2.imread(location)\n",
    "    judgementVJHT, _ =lib.Eval(ground[i], dart_VJHT, imgcol, thresh=judgethresh)\n",
    "    imgcol = cv2.imread(location)\n",
    "    judgementVJ, _ = lib.Eval(ground[i], dart_VJ,imgcol, thresh=judgethresh)\n",
    "    detectionVJHT = lib.getinfo(judgementVJHT,dart_VJHT)\n",
    "    detectionVJ = lib.getinfo(judgementVJ,dart_VJ)\n",
    "    F1VJHT[i] = lib.f1score(detectionVJHT)\n",
    "    F1VJ[i] = lib.f1score(detectionVJ)\n",
    "    PrecisionVJ[i] = lib.ppv(detectionVJ)\n",
    "    PrecisionVJHT[i] = lib.ppv(detectionVJHT)\n",
    "    RecallVJ[i] = lib.tpr(detectionVJ)\n",
    "    RecallVJHT[i] = lib.tpr(detectionVJHT)\n",
    "    print (\"dart\" + str(i) + \".jpg done\")\n",
    "print (\"Total runtime: \" + str(time.time()-start))\n",
    "print (\"F1-VJ:\")\n",
    "print (F1VJ)\n",
    "print (\"F1-VJHT:\")\n",
    "print (F1VJHT)\n"
   ]
  },
  {
   "cell_type": "markdown",
   "metadata": {},
   "source": [
    "### Comparing both images with the average of all 16 images"
   ]
  },
  {
   "cell_type": "code",
   "execution_count": 12,
   "metadata": {},
   "outputs": [
    {
     "name": "stdout",
     "output_type": "stream",
     "text": [
      "{5: 0.07692307692307693, 9: 0.08333333333333333, 3: 0}\n",
      "0.16025641025641024\n",
      "3\n"
     ]
    },
    {
     "data": {
      "image/png": "[encoded data removed]",
      "text/plain": [
       "<Figure size 432x288 with 1 Axes>"
      ]
     },
     "metadata": {
      "needs_background": "light"
     },
     "output_type": "display_data"
    },
    {
     "data": {
      "image/png": "[encoded data removed]",
      "text/plain": [
       "<Figure size 432x288 with 1 Axes>"
      ]
     },
     "metadata": {
      "needs_background": "light"
     },
     "output_type": "display_data"
    }
   ],
   "source": [
    "def f1bar(result1, result2, whichimgs, s):\n",
    "    image_labels = []\n",
    "    for i in whichimgs:\n",
    "        if i == 20:\n",
    "            each_image = 'average'\n",
    "        else:\n",
    "            each_image = 'dart'+str(i)+'jpg.'\n",
    "        image_labels.append(each_image)\n",
    "\n",
    "    indices = np.arange(len(image_labels))\n",
    "    width = 0.35\n",
    "\n",
    "    fig = plt.figure()\n",
    "    ax = fig.add_subplot(111)\n",
    "    bar1 = ax.bar(indices, result1, width, color = 'royalblue', label = 'Viola-Jones')\n",
    "    bar2 = ax.bar(indices+width, result2, width, color = 'seagreen', label = 'Viola-Jones + Hough Transform')\n",
    "    plt.xticks(indices+width/2, image_labels, rotation = 'vertical')\n",
    "    plt.ylabel(s, fontsize=14)\n",
    "    plt.legend(loc = 'lower left', bbox_to_anchor=(0,1.02,1,0.2), mode = 'expand', ncol = 2)\n",
    "    plt.show()\n",
    "\n",
    "    \n",
    "    \n",
    "avgVJ_P = sum(PrecisionVJ.values())/len(PrecisionVJ)\n",
    "avgVJHT_P = sum(PrecisionVJHT.values())/len(PrecisionVJHT)\n",
    "ResultVJ_P = [PrecisionVJ[5], PrecisionVJ[9], avgVJ_P]\n",
    "ResultVJHT_P = [PrecisionVJHT[5], PrecisionVJHT[9], avgVJHT_P]\n",
    "f1bar(ResultVJ_P, ResultVJHT_P, [5,9,20], \"precision\")\n",
    "\n",
    "avgVJ_R = sum(RecallVJ.values())/len(RecallVJ)\n",
    "avgVJHT_R = sum(RecallVJHT.values())/len(RecallVJHT)\n",
    "ResultVJ_R = [RecallVJ[5], RecallVJ[9], avgVJ_R]\n",
    "ResultVJHT_R = [RecallVJHT[5], RecallVJHT[9], avgVJHT_R]\n",
    "f1bar(ResultVJ_R, ResultVJHT_R, [5,9,20],\"recall\")\n"
   ]
  },
  {
   "cell_type": "code",
   "execution_count": 14,
   "metadata": {},
   "outputs": [
    {
     "data": {
      "text/plain": [
       "0.7250000000000001"
      ]
     },
     "execution_count": 14,
     "metadata": {},
     "output_type": "execute_result"
    }
   ],
   "source": [
    "a =sum([1.0, 1.0, 1.0, 0.5, 1.0, 0, 1.0, 1.0, 0.6666666666666666, 0.6666666666666666, 0.8, 1.0, 0, 0.5, 0.8, 0.6666666666666666])\n",
    "a/16"
   ]
  },
  {
   "cell_type": "markdown",
   "metadata": {},
   "source": [
    "### Visualising the evaluation method using the harmonic mean with threshold = 0.5"
   ]
  },
  {
   "cell_type": "code",
   "execution_count": 52,
   "metadata": {},
   "outputs": [
    {
     "data": {
      "text/plain": [
       "[<matplotlib.lines.Line2D at 0x7f3ec485b400>]"
      ]
     },
     "execution_count": 52,
     "metadata": {},
     "output_type": "execute_result"
    },
    {
     "data": {
      "image/png": "[encoded data removed]",
      "text/plain": [
       "<Figure size 432x288 with 1 Axes>"
      ]
     },
     "metadata": {
      "needs_background": "light"
     },
     "output_type": "display_data"
    }
   ],
   "source": [
    "x = np.linspace(0,1,100)\n",
    "def function(x):\n",
    "    if x<0.25:\n",
    "        return 100\n",
    "    y = x/(4*x-1)\n",
    "    return y\n",
    "\n",
    "Y = []\n",
    "for i in x:\n",
    "    Y.append(function(i))\n",
    "\n",
    "Y = np.array(Y)\n",
    "plt.rcParams.update({'font.size': 14})\n",
    "plt.xlim(0,1)\n",
    "plt.xlabel(\"Overlapping area w.r.t detected object 1\", fontsize = 14)\n",
    "plt.ylabel(\"Overlapping area w.r.t detect obj 2\", fontsize = 14)\n",
    "plt.ylim(0,1)    \n",
    "plt.grid(True)\n",
    "plt.plot(x,Y, linewidth=5)\n"
   ]
  },
  {
   "cell_type": "code",
   "execution_count": null,
   "metadata": {},
   "outputs": [],
   "source": []
  }
 ],
 "metadata": {
  "kernelspec": {
   "display_name": "Python 3",
   "language": "python",
   "name": "python3"
  },
  "language_info": {
   "codemirror_mode": {
    "name": "ipython",
    "version": 3
   },
   "file_extension": ".py",
   "mimetype": "text/x-python",
   "name": "python",
   "nbconvert_exporter": "python",
   "pygments_lexer": "ipython3",
   "version": "3.6.6"
  }
 },
 "nbformat": 4,
 "nbformat_minor": 2
}
