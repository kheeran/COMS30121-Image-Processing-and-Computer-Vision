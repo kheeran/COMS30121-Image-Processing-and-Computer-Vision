{
 "cells": [
  {
   "cell_type": "code",
   "execution_count": 2,
   "metadata": {},
   "outputs": [
    {
     "name": "stdout",
     "output_type": "stream",
     "text": [
      "250.5463358778626\n"
     ]
    },
    {
     "data": {
      "text/plain": [
       "True"
      ]
     },
     "execution_count": 2,
     "metadata": {},
     "output_type": "execute_result"
    }
   ],
   "source": [
    "import matplotlib.pyplot as plt\n",
    "import numpy as np\n",
    "import cv2\n",
    "import math\n",
    "\n",
    "def imshow(image):\n",
    "    #OpenCV stores images in BGR so we have to convert to RGB to display it using matplotlib\n",
    "    imagergb = cv2.cvtColor(image, cv2.COLOR_BGR2RGB)\n",
    "    plt.imshow(imagergb)\n",
    "\n",
    "\n",
    "#edge detection using sobel operator\n",
    "ddx = np.array([[-1,0,1],[-2,0,2],[-1,0,1]])\n",
    "# ddx = np.ones((3,3))\n",
    "ddy = np.array([[-1,-2,-1],[0,0,0],[1,2,1]])\n",
    "\n",
    "h=6\n",
    "\n",
    "location = str(\"../images/dart\") + str(i) + str(\".jpg\")\n",
    "imgcol = cv2.imread(location)\n",
    "img = np.array(cv2.cvtColor(imgcol, cv2.COLOR_BGR2GRAY))\n",
    "\n",
    "sobelx = cv2.Sobel(img,cv2.CV_64F,1,0,ksize=3)\n",
    "sobely = cv2.Sobel(img,cv2.CV_64F,0,1,ksize=3)\n",
    "\n",
    "(M,N) = sobelx.shape\n",
    "grad = np.zeros((M,N))\n",
    "direc = np.zeros((M,N))\n",
    "thresh = 5*np.sum(img)/(N*M)\n",
    "print (thresh)\n",
    "\n",
    "for m in range (0,M):\n",
    "    for n in range  (0,N):\n",
    "        grad[m,n] = math.sqrt(sobelx[m,n]**2 + sobely[m,n]**2)\n",
    "        if sobelx[m,n] == 0: # to prevent division by zero in direc\n",
    "            sobelx[m,n]= 1*10**(-5)\n",
    "        direc[m,n] = np.arctan(sobely[m,n]/sobelx[m,n])\n",
    "        if grad[m,j]<thresh:\n",
    "            grad[i,j] = 0\n",
    "\n",
    "saveloc = (str(\"edgedetected/dartgrad\" + str(i) + str(\".jpg\")))\n",
    "cv2.imwrite(saveloc,grad)\n",
    "\n",
    "saveloc = (str(\"edgedetected/dartdirec\" + str(i) + str(\".jpg\")))\n",
    "cv2.imwrite(saveloc,direc)\n"
   ]
  },
  {
   "cell_type": "code",
   "execution_count": 135,
   "metadata": {},
   "outputs": [
    {
     "name": "stdout",
     "output_type": "stream",
     "text": [
      "1.5707938267948967\n"
     ]
    }
   ],
   "source": [
    "print (direc[300,364])"
   ]
  },
  {
   "cell_type": "code",
   "execution_count": null,
   "metadata": {},
   "outputs": [],
   "source": []
  },
  {
   "cell_type": "code",
   "execution_count": null,
   "metadata": {},
   "outputs": [],
   "source": []
  }
 ],
 "metadata": {
  "kernelspec": {
   "display_name": "Python 3",
   "language": "python",
   "name": "python3"
  },
  "language_info": {
   "codemirror_mode": {
    "name": "ipython",
    "version": 3
   },
   "file_extension": ".py",
   "mimetype": "text/x-python",
   "name": "python",
   "nbconvert_exporter": "python",
   "pygments_lexer": "ipython3",
   "version": "3.7.0"
  }
 },
 "nbformat": 4,
 "nbformat_minor": 2
}
