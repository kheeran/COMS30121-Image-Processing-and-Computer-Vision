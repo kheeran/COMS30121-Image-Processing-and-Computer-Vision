{
 "cells": [
  {
   "cell_type": "code",
   "execution_count": 3,
   "metadata": {},
   "outputs": [
    {
     "data": {
      "text/plain": [
       "<matplotlib.image.AxesImage at 0x7f75fbc45e80>"
      ]
     },
     "execution_count": 3,
     "metadata": {},
     "output_type": "execute_result"
    },
    {
     "data": {
      "image/png": "[encoded data removed]",
      "text/plain": [
       "<Figure size 432x288 with 1 Axes>"
      ]
     },
     "metadata": {
      "needs_background": "light"
     },
     "output_type": "display_data"
    }
   ],
   "source": [
    "import matplotlib.pyplot as plt\n",
    "import numpy as np\n",
    "import cv2\n",
    "import math\n",
    "\n",
    "i=6\n",
    "\n",
    "location = str(\"../images/dart\") + str(i) + str(\".jpg\")\n",
    "imgcol = cv2.imread(location)\n",
    "img = np.array(cv2.cvtColor(imgcol, cv2.COLOR_BGR2GRAY))\n",
    "\n",
    "sobelx = cv2.Sobel(img,cv2.CV_64F,1,0,ksize=3)\n",
    "sobely = cv2.Sobel(img,cv2.CV_64F,0,1,ksize=3)\n",
    "\n",
    "(M,N) = sobelx.shape\n",
    "grad = np.zeros((M,N))\n",
    "direc = np.zeros((M,N))\n",
    "thresh = 5*np.sum(img)/(N*M)\n",
    "\n",
    "for m in range (0,M): #m = x\n",
    "    for n in range  (0,N): # n = y\n",
    "        grad[m,n] = math.sqrt(sobelx[m,n]**2 + sobely[m,n]**2)\n",
    "        if sobelx[m,n] == 0: # to prevent division by zero in direc\n",
    "            sobelx[m,n]= 1*10**(-5)\n",
    "        direc[m,n] = np.arctan(sobely[m,n]/sobelx[m,n])\n",
    "        if grad[m,n]>thresh:\n",
    "            grad[m,n] = 255\n",
    "        else:\n",
    "            grad[m,n] = 0\n",
    "\n",
    "saveloc1 = (str(\"edgedetected/dartgrad\" + str(i) + str(\".jpg\")))\n",
    "cv2.imwrite(saveloc1,grad)\n",
    "plt.imshow(grad, cmap='gray')"
   ]
  },
  {
   "cell_type": "code",
   "execution_count": 4,
   "metadata": {},
   "outputs": [
    {
     "ename": "IndexError",
     "evalue": "only integers, slices (`:`), ellipsis (`...`), numpy.newaxis (`None`) and integer or boolean arrays are valid indices",
     "output_type": "error",
     "traceback": [
      "\u001b[0;31m---------------------------------------------------------------------------\u001b[0m",
      "\u001b[0;31mIndexError\u001b[0m                                Traceback (most recent call last)",
      "\u001b[0;32m<ipython-input-4-b454d34647f4>\u001b[0m in \u001b[0;36m<module>\u001b[0;34m()\u001b[0m\n\u001b[1;32m     18\u001b[0m             \u001b[0mx0\u001b[0m \u001b[0;34m=\u001b[0m \u001b[0mnp\u001b[0m\u001b[0;34m.\u001b[0m\u001b[0mround\u001b[0m\u001b[0;34m(\u001b[0m\u001b[0mn\u001b[0m \u001b[0;34m+\u001b[0m \u001b[0mr\u001b[0m\u001b[0;34m*\u001b[0m\u001b[0mmath\u001b[0m\u001b[0;34m.\u001b[0m\u001b[0mcos\u001b[0m\u001b[0;34m(\u001b[0m\u001b[0mdirec\u001b[0m\u001b[0;34m[\u001b[0m\u001b[0mm\u001b[0m\u001b[0;34m,\u001b[0m\u001b[0mn\u001b[0m\u001b[0;34m]\u001b[0m\u001b[0;34m)\u001b[0m\u001b[0;34m)\u001b[0m\u001b[0;34m\u001b[0m\u001b[0m\n\u001b[1;32m     19\u001b[0m             \u001b[0;32mif\u001b[0m \u001b[0my0\u001b[0m\u001b[0;34m<\u001b[0m\u001b[0mM\u001b[0m \u001b[0;32mand\u001b[0m \u001b[0mx0\u001b[0m\u001b[0;34m<\u001b[0m\u001b[0mN\u001b[0m\u001b[0;34m:\u001b[0m\u001b[0;34m\u001b[0m\u001b[0m\n\u001b[0;32m---> 20\u001b[0;31m                 \u001b[0mHxyr\u001b[0m\u001b[0;34m[\u001b[0m\u001b[0my0\u001b[0m\u001b[0;34m,\u001b[0m\u001b[0mx0\u001b[0m\u001b[0;34m]\u001b[0m\u001b[0;34m\u001b[0m\u001b[0m\n\u001b[0m\u001b[1;32m     21\u001b[0m             \u001b[0mprint\u001b[0m \u001b[0;34m(\u001b[0m\u001b[0mx0\u001b[0m\u001b[0;34m)\u001b[0m\u001b[0;34m\u001b[0m\u001b[0m\n\u001b[1;32m     22\u001b[0m \u001b[0;34m\u001b[0m\u001b[0m\n",
      "\u001b[0;31mIndexError\u001b[0m: only integers, slices (`:`), ellipsis (`...`), numpy.newaxis (`None`) and integer or boolean arrays are valid indices"
     ]
    }
   ],
   "source": [
    "nc = 4 #numcir \n",
    "\n",
    "#assuming the full board has to be in the image and the board isn't distorted. \n",
    "maxrad = max(M,N)/2\n",
    "\n",
    "rad = np.zeros(nc)\n",
    "for a in range (0,nc):\n",
    "    rad[a] = (a+1)*maxrad/nc\n",
    "\n",
    "Hxyr = np.zeros ((M,N,nc))\n",
    "\n",
    "#eventhough we start in the top right corner, flipping and rotating the space doesnt affect the result\n",
    "#if we use many values of theta and if there is a edge at that grad(x0,y0) then H(x0,y0,r) + 1??? \n",
    "for m in range (0,M): #y\n",
    "    for n in range (0,N): #x\n",
    "        for r in rad:\n",
    "            y0 = np.round(m + r*math.sin(direc[m,n]))\n",
    "            x0 = np.round(n + r*math.cos(direc[m,n]))\n",
    "            if y0<M and x0<N:\n",
    "                Hxyr[y0,x0]\n",
    "            print (x0)\n",
    "    \n",
    "# for m in range (0,M):\n",
    "#     for n in range (0,N):\n",
    "#         if not grad[m,n]==0:\n",
    "#             for t in theta:\n",
    "                \n",
    "            \n",
    "            "
   ]
  },
  {
   "cell_type": "code",
   "execution_count": null,
   "metadata": {},
   "outputs": [],
   "source": [
    "\n",
    "# #for lines\n",
    "# theta = np.zeros(nl)\n",
    "# for a in range (0,nl):\n",
    "#     theta[a] = a*2*math.pi/nl\n"
   ]
  }
 ],
 "metadata": {
  "kernelspec": {
   "display_name": "Python 3",
   "language": "python",
   "name": "python3"
  },
  "language_info": {
   "codemirror_mode": {
    "name": "ipython",
    "version": 3
   },
   "file_extension": ".py",
   "mimetype": "text/x-python",
   "name": "python",
   "nbconvert_exporter": "python",
   "pygments_lexer": "ipython3",
   "version": "3.7.0"
  }
 },
 "nbformat": 4,
 "nbformat_minor": 2
}
