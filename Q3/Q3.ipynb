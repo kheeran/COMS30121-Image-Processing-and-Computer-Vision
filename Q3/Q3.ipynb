{
 "cells": [
  {
   "cell_type": "code",
   "execution_count": 1,
   "metadata": {},
   "outputs": [
    {
     "data": {
      "text/plain": [
       "<matplotlib.image.AxesImage at 0x7f6c2e19e4e0>"
      ]
     },
     "execution_count": 1,
     "metadata": {},
     "output_type": "execute_result"
    }
   ],
   "source": [
    "import matplotlib.pyplot as plt\n",
    "import numpy as np\n",
    "import cv2\n",
    "import math\n",
    "import time\n",
    "\n",
    "i=2\n",
    "\n",
    "location = \"../images/dart.bmp\"\n",
    "# location = str(\"../images/dart\") + str(i) + str(\".jpg\")\n",
    "imgcol = cv2.imread(location)\n",
    "img = np.array(cv2.cvtColor(imgcol, cv2.COLOR_BGR2GRAY))\n",
    "\n",
    "sobelx = cv2.Sobel(img,cv2.CV_64F,1,0,ksize=3)\n",
    "sobely = cv2.Sobel(img,cv2.CV_64F,0,1,ksize=3)\n",
    "\n",
    "(M,N) = sobelx.shape\n",
    "grad = np.zeros((M,N))\n",
    "direc = np.zeros((M,N))\n",
    "thresh = 2*np.sum(img)/(N*M)\n",
    "\n",
    "for m in range (0,M): #m = y\n",
    "    for n in range  (0,N): # n = x\n",
    "        grad[m,n] = math.sqrt(sobelx[m,n]**2 + sobely[m,n]**2)\n",
    "        if sobelx[m,n] == 0: # to prevent division by zero in direc\n",
    "            sobelx[m,n]= 1*10**(-5)\n",
    "        direc[m,n] = np.arctan(sobely[m,n]/sobelx[m,n])\n",
    "        if grad[m,n]>thresh:\n",
    "            grad[m,n] = 255\n",
    "        else:\n",
    "            grad[m,n] = 0\n",
    "\n",
    "saveloc1 = (str(\"edgedetected/dartgrad\" + str(i) + str(\".jpg\")))\n",
    "cv2.imwrite(saveloc1,grad)\n",
    "plt.imshow(grad, cmap='gray')"
   ]
  },
  {
   "cell_type": "code",
   "execution_count": 26,
   "metadata": {},
   "outputs": [
    {
     "name": "stdout",
     "output_type": "stream",
     "text": [
      "157.92747402191162\n"
     ]
    }
   ],
   "source": [
    "#Hough Circle\n",
    "\n",
    "#assuming the full board has to be in the image and the board isn't distorted. \n",
    "maxrad = max(M,N)\n",
    "nc =  maxrad #numcir \n",
    "\n",
    "stime = time.time()\n",
    "rad = np.zeros(nc)\n",
    "for a in range (0,nc):\n",
    "    rad[a] = (a+1)*maxrad/nc\n",
    "\n",
    "Hxyr = np.zeros ((M,N,nc))\n",
    "\n",
    "#eventhough we start in the top right corner, flipping and rotating the space doesnt affect the result\n",
    "#if we use many values of theta and if there is a edge at that grad(x0,y0) then H(x0,y0,r) + 1??? \n",
    "for m in range (0,M): #y\n",
    "    for n in range (0,N): #x\n",
    "        if grad[m,n] == 255:\n",
    "            for r in rad:\n",
    "                y0 = int(np.round(m + r*math.sin(direc[m,n])))\n",
    "                x0 = int(np.round(n + r*math.cos(direc[m,n])))\n",
    "                if y0<M and x0<N:\n",
    "                    radindex = int(nc*r/maxrad -1)\n",
    "                    Hxyr[y0,x0,radindex] += 1    \n",
    "                else:\n",
    "                    break\n",
    "etime = time.time()\n",
    "print(\"runtime: \" + str(etime-stime))               "
   ]
  },
  {
   "cell_type": "code",
   "execution_count": 42,
   "metadata": {},
   "outputs": [
    {
     "data": {
      "text/plain": [
       "array([[[0., 0., 0., ..., 1., 1., 1.],\n",
       "        [0., 0., 0., ..., 0., 0., 0.],\n",
       "        [0., 0., 0., ..., 0., 0., 0.],\n",
       "        ...,\n",
       "        [0., 0., 0., ..., 1., 1., 1.],\n",
       "        [0., 0., 0., ..., 2., 2., 3.],\n",
       "        [0., 0., 0., ..., 2., 3., 3.]],\n",
       "\n",
       "       [[0., 0., 0., ..., 1., 1., 1.],\n",
       "        [0., 0., 0., ..., 0., 0., 0.],\n",
       "        [0., 0., 0., ..., 0., 0., 0.],\n",
       "        ...,\n",
       "        [0., 0., 0., ..., 1., 2., 3.],\n",
       "        [0., 0., 0., ..., 1., 1., 3.],\n",
       "        [0., 0., 0., ..., 2., 2., 2.]],\n",
       "\n",
       "       [[0., 0., 0., ..., 1., 1., 1.],\n",
       "        [0., 0., 0., ..., 0., 0., 0.],\n",
       "        [0., 0., 0., ..., 0., 0., 0.],\n",
       "        ...,\n",
       "        [0., 0., 0., ..., 2., 3., 3.],\n",
       "        [0., 0., 0., ..., 2., 2., 3.],\n",
       "        [0., 0., 0., ..., 2., 2., 3.]],\n",
       "\n",
       "       ...,\n",
       "\n",
       "       [[0., 0., 0., ..., 1., 1., 1.],\n",
       "        [0., 0., 0., ..., 0., 0., 0.],\n",
       "        [0., 0., 0., ..., 0., 0., 0.],\n",
       "        ...,\n",
       "        [0., 0., 0., ..., 2., 2., 4.],\n",
       "        [0., 0., 0., ..., 2., 3., 4.],\n",
       "        [0., 0., 0., ..., 2., 2., 3.]],\n",
       "\n",
       "       [[0., 0., 0., ..., 1., 1., 1.],\n",
       "        [0., 0., 0., ..., 0., 0., 0.],\n",
       "        [0., 0., 0., ..., 0., 0., 0.],\n",
       "        ...,\n",
       "        [0., 0., 0., ..., 3., 3., 3.],\n",
       "        [0., 0., 0., ..., 2., 2., 3.],\n",
       "        [0., 0., 0., ..., 2., 2., 2.]],\n",
       "\n",
       "       [[0., 0., 0., ..., 1., 2., 2.],\n",
       "        [0., 0., 0., ..., 0., 0., 0.],\n",
       "        [0., 0., 0., ..., 0., 0., 0.],\n",
       "        ...,\n",
       "        [0., 0., 0., ..., 2., 2., 4.],\n",
       "        [0., 0., 0., ..., 2., 2., 3.],\n",
       "        [0., 0., 0., ..., 2., 2., 3.]]])"
      ]
     },
     "execution_count": 42,
     "metadata": {},
     "output_type": "execute_result"
    }
   ],
   "source": [
    "imgcol = cv2.imread(location)\n",
    "def imshow(image):\n",
    "    #OpenCV stores images in BGR so we have to convert to RGB to display it using matplotlib\n",
    "    imagergb = cv2.cvtColor(image, cv2.COLOR_BGR2RGB)\n",
    "    plt.imshow(imagergb)\n",
    "\n",
    "Hxyr.sort()\n",
    "Hxyr  \n",
    "# stime = time.time()\n",
    "# for m in range (0,M):\n",
    "#     for n in range (0,N):\n",
    "#         for radindex in range (0,nc):\n",
    "#             if Hxyr[m,n,radindex]>18:\n",
    "#                 r = (radindex+1)*maxrad/nc\n",
    "#                 cv2.circle(imgcol, (m,n), int(r), (0,255,0), 3, cv2.LINE_AA)\n",
    "# etime = time.time()\n",
    "# print(\"runtime: \" + str(etime-stime))               \n",
    "# imshow(imgcol)"
   ]
  },
  {
   "cell_type": "code",
   "execution_count": null,
   "metadata": {},
   "outputs": [],
   "source": [
    "\n",
    "# #for lines\n",
    "# theta = np.zeros(nl)\n",
    "# for a in range (0,nl):\n",
    "#     theta[a] = a*2*math.pi/nl\n",
    "#\n",
    "# for m in range (0,M):\n",
    "#     for n in range (0,N):\n",
    "#         if not grad[m,n]==0:\n",
    "#             for t in theta:\n",
    "\n"
   ]
  }
 ],
 "metadata": {
  "kernelspec": {
   "display_name": "Python 3",
   "language": "python",
   "name": "python3"
  },
  "language_info": {
   "codemirror_mode": {
    "name": "ipython",
    "version": 3
   },
   "file_extension": ".py",
   "mimetype": "text/x-python",
   "name": "python",
   "nbconvert_exporter": "python",
   "pygments_lexer": "ipython3",
   "version": "3.7.0"
  }
 },
 "nbformat": 4,
 "nbformat_minor": 2
}
