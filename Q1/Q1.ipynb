{
 "cells": [
  {
   "cell_type": "code",
   "execution_count": 2,
   "metadata": {},
   "outputs": [
    {
     "data": {
      "text/plain": [
       "<Figure size 640x480 with 1 Axes>"
      ]
     },
     "metadata": {},
     "output_type": "display_data"
    }
   ],
   "source": [
    "import numpy as np\n",
    "import cv2\n",
    "import matplotlib.pyplot as plt\n",
    "\n",
    "def imshow(image):\n",
    "    #OpenCV stores images in BGR so we have to convert to RGB to display it using matplotlib\n",
    "    imagergb = cv2.cvtColor(image, cv2.COLOR_BGR2RGB)\n",
    "    plt.imshow(imagergb)\n",
    "    plt.show()\n",
    "\n",
    "face_classifier = cv2.CascadeClassifier('frontalface.xml')\n",
    "# face_classifier = cv2.CascadeClassifier('./Haarcascades/haarcascade_frontalface_default.xml')\n",
    "\n",
    "image = cv2.imread('../images/dart14.jpg')\n",
    "gray = cv2.cvtColor(image, cv2.COLOR_BGR2GRAY)\n",
    "\n",
    "faces = face_classifier.detectMultiScale(gray, 1.1, 10, 0, (50,50), (500,500))\n",
    "\n",
    "\n",
    "if faces is ():\n",
    "    print('No faces found')\n",
    "\n",
    "'''\n",
    "def draw(img, obj):\n",
    "    for (x,y,w,h) in obj:\n",
    "        cv2.rectangle(img, (x,y), (x+w,y+h), (0,255,0), 2)\n",
    "        detected = cv2.imshow('Face Detection', img)\n",
    "        cv2.waitKey(0)\n",
    "        return detected\n",
    "\n",
    "draw(image, faces)  \n",
    "'''\n",
    "    \n",
    "#'''\n",
    "# Draw box by iteration\n",
    "for (x,y,w,h) in faces:\n",
    "    cv2.rectangle(image, (x,y), (x+w,y+h), (0,255,0), 2)\n",
    "    #detected = cv2.imshow('Face Detection', image) \n",
    "    #cv2.waitKey(0)\n",
    "#'''    \n",
    "imshow(image)\n",
    "\n",
    "#cv2.imwrite('detected.jpg', detected)\n",
    "#cv2.destroyAllWindows()"
   ]
  },
  {
   "cell_type": "code",
   "execution_count": 3,
   "metadata": {},
   "outputs": [
    {
     "name": "stdout",
     "output_type": "stream",
     "text": [
      "Help on built-in function detectMultiScale:\n",
      "\n",
      "detectMultiScale(...) method of cv2.CascadeClassifier instance\n",
      "    detectMultiScale(image[, scaleFactor[, minNeighbors[, flags[, minSize[, maxSize]]]]]) -> objects\n",
      "    .   @brief Detects objects of different sizes in the input image. The detected objects are returned as a list\n",
      "    .   of rectangles.\n",
      "    .   \n",
      "    .   @param image Matrix of the type CV_8U containing an image where objects are detected.\n",
      "    .   @param objects Vector of rectangles where each rectangle contains the detected object, the\n",
      "    .   rectangles may be partially outside the original image.\n",
      "    .   @param scaleFactor Parameter specifying how much the image size is reduced at each image scale.\n",
      "    .   @param minNeighbors Parameter specifying how many neighbors each candidate rectangle should have\n",
      "    .   to retain it.\n",
      "    .   @param flags Parameter with the same meaning for an old cascade as in the function\n",
      "    .   cvHaarDetectObjects. It is not used for a new cascade.\n",
      "    .   @param minSize Minimum possible object size. Objects smaller than that are ignored.\n",
      "    .   @param maxSize Maximum possible object size. Objects larger than that are ignored. If `maxSize == minSize` model is evaluated on single scale.\n",
      "    .   \n",
      "    .   The function is parallelized with the TBB library.\n",
      "    .   \n",
      "    .   @note\n",
      "    .   -   (Python) A face detection example using cascade classifiers can be found at\n",
      "    .   opencv_source_code/samples/python/facedetect.py\n",
      "\n"
     ]
    }
   ],
   "source": [
    "help(face_classifier.detectMultiScale)"
   ]
  },
  {
   "cell_type": "code",
   "execution_count": null,
   "metadata": {},
   "outputs": [],
   "source": []
  }
 ],
 "metadata": {
  "kernelspec": {
   "display_name": "Python 3",
   "language": "python",
   "name": "python3"
  },
  "language_info": {
   "codemirror_mode": {
    "name": "ipython",
    "version": 3
   },
   "file_extension": ".py",
   "mimetype": "text/x-python",
   "name": "python",
   "nbconvert_exporter": "python",
   "pygments_lexer": "ipython3",
   "version": "3.7.0"
  }
 },
 "nbformat": 4,
 "nbformat_minor": 2
}
