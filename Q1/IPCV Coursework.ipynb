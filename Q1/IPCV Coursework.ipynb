{
 "cells": [
  {
   "cell_type": "code",
   "execution_count": 38,
   "metadata": {},
   "outputs": [],
   "source": [
    "import numpy as np\n",
    "import cv2\n",
    "\n",
    "#face_classifier = cv2.CascadeClassifier('frontalface.xml')\n",
    "face_classifier = cv2.CascadeClassifier('./Haarcascades/haarcascade_frontalface_default.xml')\n",
    "\n",
    "image = cv2.imread('./images/dart14.jpg')\n",
    "gray = cv2.cvtColor(image, cv2.COLOR_BGR2GRAY)\n",
    "\n",
    "faces = face_classifier.detectMultiScale(gray, 1.1, 10, 0, (50,50), (500,500))\n",
    "\n",
    "\n",
    "if faces is ():\n",
    "    print('No faces found')\n",
    "\n",
    "'''\n",
    "def draw(img, obj):\n",
    "    for (x,y,w,h) in obj:\n",
    "        cv2.rectangle(img, (x,y), (x+w,y+h), (0,255,0), 2)\n",
    "        detected = cv2.imshow('Face Detection', img)\n",
    "        cv2.waitKey(0)\n",
    "        return detected\n",
    "\n",
    "draw(image, faces)  \n",
    "'''\n",
    "    \n",
    "#'''\n",
    "# Draw box by iteration\n",
    "for (x,y,w,h) in faces:\n",
    "    cv2.rectangle(image, (x,y), (x+w,y+h), (0,255,0), 2)\n",
    "    detected = cv2.imshow('Face Detection', image)\n",
    "    cv2.waitKey(0)\n",
    "#'''    \n",
    "\n",
    "#cv2.imwrite('detected.jpg', detected)\n",
    "cv2.destroyAllWindows()"
   ]
  },
  {
   "cell_type": "code",
   "execution_count": null,
   "metadata": {},
   "outputs": [],
   "source": [
    "help(face_classifier.detectMultiScale)"
   ]
  }
 ],
 "metadata": {
  "kernelspec": {
   "display_name": "Python 3",
   "language": "python",
   "name": "python3"
  },
  "language_info": {
   "codemirror_mode": {
    "name": "ipython",
    "version": 3
   },
   "file_extension": ".py",
   "mimetype": "text/x-python",
   "name": "python",
   "nbconvert_exporter": "python",
   "pygments_lexer": "ipython3",
   "version": "3.7.0"
  }
 },
 "nbformat": 4,
 "nbformat_minor": 2
}
