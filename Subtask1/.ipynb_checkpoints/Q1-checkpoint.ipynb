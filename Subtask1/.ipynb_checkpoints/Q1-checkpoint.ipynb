{
 "cells": [
  {
   "cell_type": "markdown",
   "metadata": {},
   "source": [
    "## Subtask 1: The Viola-Jones Object Detector\n",
    "In this subtask, we only implement the code given. In our case we have re-writtten it in python."
   ]
  },
  {
   "cell_type": "code",
   "execution_count": 13,
   "metadata": {},
   "outputs": [
    {
     "name": "stdout",
     "output_type": "stream",
     "text": [
      "Enter folder path (eg.'../images/'): ../images/\n"
     ]
    },
    {
     "ename": "NameError",
     "evalue": "name 'onlyfile' is not defined",
     "output_type": "error",
     "traceback": [
      "\u001b[0;31m---------------------------------------------------------------------------\u001b[0m",
      "\u001b[0;31mNameError\u001b[0m                                 Traceback (most recent call last)",
      "\u001b[0;32m<ipython-input-13-fd2e713cb71a>\u001b[0m in \u001b[0;36m<module>\u001b[0;34m\u001b[0m\n\u001b[1;32m     53\u001b[0m         \u001b[0mcv2\u001b[0m\u001b[0;34m.\u001b[0m\u001b[0mrectangle\u001b[0m\u001b[0;34m(\u001b[0m\u001b[0mimage\u001b[0m\u001b[0;34m,\u001b[0m \u001b[0;34m(\u001b[0m\u001b[0mx\u001b[0m\u001b[0;34m,\u001b[0m\u001b[0my\u001b[0m\u001b[0;34m)\u001b[0m\u001b[0;34m,\u001b[0m \u001b[0;34m(\u001b[0m\u001b[0mx\u001b[0m\u001b[0;34m+\u001b[0m\u001b[0mw\u001b[0m\u001b[0;34m,\u001b[0m\u001b[0my\u001b[0m\u001b[0;34m+\u001b[0m\u001b[0mh\u001b[0m\u001b[0;34m)\u001b[0m\u001b[0;34m,\u001b[0m \u001b[0;34m(\u001b[0m\u001b[0;36m0\u001b[0m\u001b[0;34m,\u001b[0m\u001b[0;36m255\u001b[0m\u001b[0;34m,\u001b[0m\u001b[0;36m0\u001b[0m\u001b[0;34m)\u001b[0m\u001b[0;34m,\u001b[0m \u001b[0;36m3\u001b[0m\u001b[0;34m)\u001b[0m\u001b[0;34m\u001b[0m\u001b[0m\n\u001b[1;32m     54\u001b[0m \u001b[0;34m\u001b[0m\u001b[0m\n\u001b[0;32m---> 55\u001b[0;31m     \u001b[0msaveloc\u001b[0m \u001b[0;34m=\u001b[0m \u001b[0;34m(\u001b[0m\u001b[0mstr\u001b[0m\u001b[0;34m(\u001b[0m\u001b[0;34m\"faceclassified/\"\u001b[0m\u001b[0;34m)\u001b[0m \u001b[0;34m+\u001b[0m \u001b[0monlyfile\u001b[0m\u001b[0;34m[\u001b[0m\u001b[0mi\u001b[0m\u001b[0;34m]\u001b[0m\u001b[0;34m)\u001b[0m\u001b[0;34m\u001b[0m\u001b[0m\n\u001b[0m\u001b[1;32m     56\u001b[0m     \u001b[0mcv2\u001b[0m\u001b[0;34m.\u001b[0m\u001b[0mimwrite\u001b[0m\u001b[0;34m(\u001b[0m\u001b[0msaveloc\u001b[0m\u001b[0;34m,\u001b[0m\u001b[0mimage\u001b[0m\u001b[0;34m)\u001b[0m\u001b[0;34m\u001b[0m\u001b[0m\n\u001b[1;32m     57\u001b[0m \u001b[0;31m#     plot figures\u001b[0m\u001b[0;34m\u001b[0m\u001b[0;34m\u001b[0m\u001b[0m\n",
      "\u001b[0;31mNameError\u001b[0m: name 'onlyfile' is not defined"
     ]
    },
    {
     "data": {
      "text/plain": [
       "<Figure size 1440x720 with 0 Axes>"
      ]
     },
     "metadata": {},
     "output_type": "display_data"
    }
   ],
   "source": [
    "import numpy as np\n",
    "import cv2\n",
    "import matplotlib.pyplot as plt\n",
    "import math\n",
    "import matplotlib.pylab as pylab\n",
    "from os import listdir\n",
    "from os.path import isfile, join\n",
    "\n",
    "mypath = str(input(\"Enter folder path (eg.'../images/'): \"))\n",
    "\n",
    "onlyfiles = [f for f in listdir(mypath) if isfile(join(mypath, f))]\n",
    "\n",
    "pylab.rcParams['figure.figsize'] = (20,10)\n",
    "\n",
    "\n",
    "def imshow(image):\n",
    "    #OpenCV stores images in BGR so we have to convert to RGB to display it using matplotlib\n",
    "    imagergb = cv2.cvtColor(image, cv2.COLOR_BGR2RGB)\n",
    "    plt.imshow(imagergb)\n",
    "    \n",
    "def imresize (image):\n",
    "    hh, ww, dd = image.shape\n",
    "    imscale = 500/ww\n",
    "    newX, newY = image.shape[1]*imscale, image.shape[0]*imscale\n",
    "    newimage = cv2.resize(image, (int(newX), int(newY)))\n",
    "    return newimage\n",
    "\n",
    "obj_classifier = cv2.CascadeClassifier('frontalface.xml')\n",
    "\n",
    "fig = plt.figure()\n",
    "\n",
    "#number of test images\n",
    "N=len(onlyfiles)\n",
    "\n",
    "for i in range (0,N):\n",
    "    #load image\n",
    "    location = mypath + onlyfiles[i]\n",
    "\n",
    "    image = cv2.imread(location)\n",
    "    image = imresize(image)\n",
    "\n",
    "    gray = cv2.cvtColor(image, cv2.COLOR_BGR2GRAY)\n",
    "\n",
    "    #run classifier\n",
    "    obj = obj_classifier.detectMultiScale(gray, 1.1, 1, 0|cv2.CASCADE_SCALE_IMAGE, (50,50), (500,500))\n",
    "\n",
    "    #check if emppty\n",
    "    if obj is ():\n",
    "        print('No objects found in ' + str(\"dart\") + str(i) + str(\".jpg\"))\n",
    "\n",
    "    # Visualise classifier: Draw box by iteration\n",
    "    for (x,y,w,h) in obj:\n",
    "        cv2.rectangle(image, (x,y), (x+w,y+h), (0,255,0), 3)\n",
    "\n",
    "    saveloc = (str(\"faceclassified/\") + onlyfiles[i])\n",
    "    cv2.imwrite(saveloc,image)\n",
    "#     plot figures\n",
    "    cols = 4\n",
    "    rows = math.ceil(N/cols)\n",
    "    ax = fig.add_subplot(rows, cols, i+1)\n",
    "    imagergb = cv2.cvtColor(image, cv2.COLOR_BGR2RGB)\n",
    "    ax.imshow(imagergb)\n",
    "# imshow(image)\n",
    "#cv2.imwrite('detected.jpg', detected)\n",
    "#cv2.destroyAllWindows()\n"
   ]
  },
  {
   "cell_type": "code",
   "execution_count": null,
   "metadata": {},
   "outputs": [],
   "source": []
  }
 ],
 "metadata": {
  "kernelspec": {
   "display_name": "Python 3",
   "language": "python",
   "name": "python3"
  },
  "language_info": {
   "codemirror_mode": {
    "name": "ipython",
    "version": 3
   },
   "file_extension": ".py",
   "mimetype": "text/x-python",
   "name": "python",
   "nbconvert_exporter": "python",
   "pygments_lexer": "ipython3",
   "version": "3.6.6"
  }
 },
 "nbformat": 4,
 "nbformat_minor": 2
}
